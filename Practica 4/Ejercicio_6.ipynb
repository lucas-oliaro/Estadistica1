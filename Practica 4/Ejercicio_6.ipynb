{
 "cells": [
  {
   "cell_type": "markdown",
   "metadata": {},
   "source": [
    " Se le propone a un grupo de niños y niñas una actividad: construir torres lo más altas po-\n",
    "sible usando bloques cúbicos y cilíndricos. Se registran en https://github.com/franciscokordon/estainferencia/blob/main/data/blocks.csv las edades de los infantes, el número de bloques y el\n",
    "tiempo empleado. En este problema, solo consideramos el número de bloques utilizados y las\n",
    "edades.\n",
    "- (a) Graficar el número de bloques y vs las edades x. A partir del gráfico, proponer un MLG.\n"
   ]
  },
  {
   "cell_type": "code",
   "execution_count": 1,
   "metadata": {},
   "outputs": [],
   "source": [
    "import pandas as pd \n",
    "import numpy as np \n",
    "import matplotlib.pyplot as plt\n",
    "\n",
    "path = \"./blocks.csv\"\n",
    "df = pd.read_csv(path, delimiter=',')"
   ]
  },
  {
   "cell_type": "code",
   "execution_count": 2,
   "metadata": {},
   "outputs": [
    {
     "data": {
      "text/html": [
       "<div>\n",
       "<style scoped>\n",
       "    .dataframe tbody tr th:only-of-type {\n",
       "        vertical-align: middle;\n",
       "    }\n",
       "\n",
       "    .dataframe tbody tr th {\n",
       "        vertical-align: top;\n",
       "    }\n",
       "\n",
       "    .dataframe thead th {\n",
       "        text-align: right;\n",
       "    }\n",
       "</style>\n",
       "<table border=\"1\" class=\"dataframe\">\n",
       "  <thead>\n",
       "    <tr style=\"text-align: right;\">\n",
       "      <th></th>\n",
       "      <th>Unnamed: 0</th>\n",
       "      <th>Child</th>\n",
       "      <th>Number</th>\n",
       "      <th>Time</th>\n",
       "      <th>Trial</th>\n",
       "      <th>Shape</th>\n",
       "      <th>Age</th>\n",
       "    </tr>\n",
       "  </thead>\n",
       "  <tbody>\n",
       "    <tr>\n",
       "      <th>0</th>\n",
       "      <td>0</td>\n",
       "      <td>A</td>\n",
       "      <td>11</td>\n",
       "      <td>30.0</td>\n",
       "      <td>1</td>\n",
       "      <td>Cube</td>\n",
       "      <td>4.67</td>\n",
       "    </tr>\n",
       "    <tr>\n",
       "      <th>1</th>\n",
       "      <td>1</td>\n",
       "      <td>B</td>\n",
       "      <td>9</td>\n",
       "      <td>19.0</td>\n",
       "      <td>1</td>\n",
       "      <td>Cube</td>\n",
       "      <td>5.00</td>\n",
       "    </tr>\n",
       "    <tr>\n",
       "      <th>2</th>\n",
       "      <td>2</td>\n",
       "      <td>C</td>\n",
       "      <td>8</td>\n",
       "      <td>18.6</td>\n",
       "      <td>1</td>\n",
       "      <td>Cube</td>\n",
       "      <td>4.42</td>\n",
       "    </tr>\n",
       "    <tr>\n",
       "      <th>3</th>\n",
       "      <td>3</td>\n",
       "      <td>D</td>\n",
       "      <td>9</td>\n",
       "      <td>23.0</td>\n",
       "      <td>1</td>\n",
       "      <td>Cube</td>\n",
       "      <td>4.33</td>\n",
       "    </tr>\n",
       "    <tr>\n",
       "      <th>4</th>\n",
       "      <td>4</td>\n",
       "      <td>E</td>\n",
       "      <td>10</td>\n",
       "      <td>29.0</td>\n",
       "      <td>1</td>\n",
       "      <td>Cube</td>\n",
       "      <td>4.33</td>\n",
       "    </tr>\n",
       "  </tbody>\n",
       "</table>\n",
       "</div>"
      ],
      "text/plain": [
       "   Unnamed: 0 Child  Number  Time  Trial Shape   Age\n",
       "0           0     A      11  30.0      1  Cube  4.67\n",
       "1           1     B       9  19.0      1  Cube  5.00\n",
       "2           2     C       8  18.6      1  Cube  4.42\n",
       "3           3     D       9  23.0      1  Cube  4.33\n",
       "4           4     E      10  29.0      1  Cube  4.33"
      ]
     },
     "execution_count": 2,
     "metadata": {},
     "output_type": "execute_result"
    }
   ],
   "source": [
    "df.head()"
   ]
  },
  {
   "cell_type": "code",
   "execution_count": 3,
   "metadata": {},
   "outputs": [
    {
     "data": {
      "image/png": "[encoded data removed]",
      "text/plain": [
       "<Figure size 640x480 with 1 Axes>"
      ]
     },
     "metadata": {},
     "output_type": "display_data"
    },
    {
     "name": "stdout",
     "output_type": "stream",
     "text": [
      "                            OLS Regression Results                            \n",
      "==============================================================================\n",
      "Dep. Variable:                 Number   R-squared:                       0.097\n",
      "Model:                            OLS   Adj. R-squared:                  0.088\n",
      "Method:                 Least Squares   F-statistic:                     10.57\n",
      "Date:                Wed, 02 Oct 2024   Prob (F-statistic):            0.00158\n",
      "Time:                        16:10:05   Log-Likelihood:                -216.51\n",
      "No. Observations:                 100   AIC:                             437.0\n",
      "Df Residuals:                      98   BIC:                             442.2\n",
      "Df Model:                           1                                         \n",
      "Covariance Type:            nonrobust                                         \n",
      "==============================================================================\n",
      "                 coef    std err          t      P>|t|      [0.025      0.975]\n",
      "------------------------------------------------------------------------------\n",
      "const          3.0578      1.177      2.599      0.011       0.723       5.393\n",
      "Age            0.9344      0.287      3.251      0.002       0.364       1.505\n",
      "==============================================================================\n",
      "Omnibus:                        7.454   Durbin-Watson:                   1.476\n",
      "Prob(Omnibus):                  0.024   Jarque-Bera (JB):                7.841\n",
      "Skew:                           0.678   Prob(JB):                       0.0198\n",
      "Kurtosis:                       2.795   Cond. No.                         23.9\n",
      "==============================================================================\n",
      "\n",
      "Notes:\n",
      "[1] Standard Errors assume that the covariance matrix of the errors is correctly specified.\n"
     ]
    }
   ],
   "source": [
    "# Graficar el número de bloques (y) vs las edades (x)\n",
    "plt.scatter(df['Age'], df['Number'])\n",
    "plt.xlabel('Edad')\n",
    "plt.ylabel('Número de Bloques')\n",
    "plt.title('Número de Bloques vs Edad')\n",
    "plt.show()\n",
    "\n",
    "# Proponer un Modelo Lineal Generalizado (MLG) USANDO STATSMODELS.API (not good)\n",
    "import statsmodels.api as sm\n",
    "\n",
    "X = df['Age']\n",
    "y = df['Number']\n",
    "X = sm.add_constant(X)  # Agregar una constante para el intercepto\n",
    "\n",
    "# Ajustar el modelo\n",
    "model = sm.OLS(y, X).fit()\n",
    "\n",
    "# Mostrar el resumen del modelo\n",
    "print(model.summary())"
   ]
  },
  {
   "cell_type": "markdown",
   "metadata": {},
   "source": [
    "- (b) Ajustar este MLG, es decir, encontrar estimaciones puntuales para los parámetros de regresión β.\n",
    "\n",
    "\n",
    "- Para ajustar un modelo de regresión lineal usando Mínimos Cuadrados, necesitas resolver el sistema \n",
    "𝛽\n",
    "^\n",
    "=\n",
    "(\n",
    "𝑋\n",
    "𝑇\n",
    "𝑋\n",
    ")\n",
    "^−\n",
    "1\n",
    "𝑋\n",
    "^𝑇\n",
    "𝑦\n",
    "\n",
    " y, donde \n",
    "𝑋\n",
    " es la matriz de diseño.\n"
   ]
  },
  {
   "cell_type": "code",
   "execution_count": 4,
   "metadata": {},
   "outputs": [
    {
     "name": "stdout",
     "output_type": "stream",
     "text": [
      "                 Generalized Linear Model Regression Results                  \n",
      "==============================================================================\n",
      "Dep. Variable:                 Number   No. Observations:                  100\n",
      "Model:                            GLM   Df Residuals:                       98\n",
      "Model Family:                 Poisson   Df Model:                            1\n",
      "Link Function:                    Log   Scale:                          1.0000\n",
      "Method:                          IRLS   Log-Likelihood:                -217.82\n",
      "Date:                Wed, 02 Oct 2024   Deviance:                       62.244\n",
      "Time:                        16:10:05   Pearson chi2:                     64.5\n",
      "No. Iterations:                     4   Pseudo R-squ. (CS):            0.06933\n",
      "Covariance Type:            nonrobust                                         \n",
      "==============================================================================\n",
      "                 coef    std err          z      P>|z|      [0.025      0.975]\n",
      "------------------------------------------------------------------------------\n",
      "const          1.3447      0.222      6.048      0.000       0.909       1.781\n",
      "Age            0.1415      0.053      2.650      0.008       0.037       0.246\n",
      "==============================================================================\n",
      "const    1.344699\n",
      "Age      0.141510\n",
      "dtype: float64\n"
     ]
    }
   ],
   "source": [
    "# ppropongo como distribucion de error una Poisson\n",
    "model = sm.GLM(y, X, family=sm.families.Poisson()).fit()\n",
    "print(model.summary())\n",
    "\n",
    "# encontrar las estimaciones puntuales de los parametreos\n",
    "print(model.params)\n",
    "\n"
   ]
  },
  {
   "cell_type": "code",
   "execution_count": 5,
   "metadata": {},
   "outputs": [],
   "source": [
    "# hago lo mismo sin libreriass\n",
    "X = df['Age']\n",
    "y = df['Number']\n",
    "\n",
    "# Ajustar el modelo\n",
    "n = len(X)\n",
    "X = np.c_[np.ones(n), X] # Agregar una constante para el intercepto\n",
    "beta = np.linalg.inv(X.T @ X) @ X.T @ y # beta = (X^T X)^-1 X^T y\n",
    "\n",
    "# Mostrar los parámetros estimados"
   ]
  },
  {
   "cell_type": "code",
   "execution_count": 6,
   "metadata": {},
   "outputs": [
    {
     "name": "stdout",
     "output_type": "stream",
     "text": [
      "b0 =  1.3446995890202804\n",
      "b1 =  0.1415095443010225\n"
     ]
    },
    {
     "data": {
      "image/png": "[encoded data removed]",
      "text/plain": [
       "<Figure size 640x480 with 1 Axes>"
      ]
     },
     "metadata": {},
     "output_type": "display_data"
    }
   ],
   "source": [
    "def neg_log_likelihood_poisson(beta, X, Y):\n",
    "    mu_ = np.exp(np.dot(X, beta))  # El parámetro lambda (mu) es exp(X * beta)\n",
    "    return -np.sum(Y * np.log(mu_) - mu_)  # Devuelve la log-verosimilitud negativa\n",
    "\n",
    "\n",
    "from scipy.optimize import minimize\n",
    "\n",
    "X,Y = df[\"Age\"], df[\"Number\"]\n",
    "\n",
    "intercept = np.ones(X.shape)\n",
    "X_with_intercept = np.column_stack((intercept,X))\n",
    "\n",
    "initial_beta = np.zeros(X_with_intercept.shape[1])\n",
    "res_poisson = minimize(neg_log_likelihood_poisson, initial_beta, args=(X_with_intercept, Y))\n",
    "\n",
    "b0 = res_poisson.x[0]\n",
    "b1 = res_poisson.x[1]\n",
    "\n",
    "print('b0 = ', b0)\n",
    "print('b1 = ', b1)\n",
    "\n",
    "x_range = np.linspace(X.min(), X.max(), 300)\n",
    "poisson_fit = np.exp(b0 + b1 * x_range)\n",
    "\n",
    "fig, ax = plt.subplots()\n",
    "ax.scatter(X, Y, alpha=0.5)\n",
    "ax.plot(x_range,poisson_fit,color='g')\n",
    "ax.set_xlabel(\"Edad\")\n",
    "ax.set_ylabel(\"Numero de bloques\")\n",
    "ax.set_title(\"Distibucion de bloques por edad\")\n",
    "plt.show()"
   ]
  },
  {
   "cell_type": "code",
   "execution_count": null,
   "metadata": {},
   "outputs": [],
   "source": []
  },
  {
   "cell_type": "markdown",
   "metadata": {},
   "source": [
    "- (c) Determinar el error estándar de cada parámetro de regresión."
   ]
  },
  {
   "cell_type": "markdown",
   "metadata": {},
   "source": [
    "Forma simplificada by GPT"
   ]
  },
  {
   "cell_type": "code",
   "execution_count": 7,
   "metadata": {},
   "outputs": [
    {
     "name": "stdout",
     "output_type": "stream",
     "text": [
      "Errores estándar de los parámetros de regresión:\n",
      "SE(b0) =  0.22235367633510356\n",
      "SE(b1) =  0.05340040219094002\n"
     ]
    }
   ],
   "source": [
    "# Calcular la matriz de covarianza de los parámetros estimados\n",
    "cov_matrix = np.linalg.inv(X_with_intercept.T @ np.diag(np.exp(X_with_intercept @ res_poisson.x)) @ X_with_intercept)\n",
    "\n",
    "# Los errores estándar son la raíz cuadrada de los elementos diagonales de la matriz de covarianza\n",
    "standard_errors = np.sqrt(np.diag(cov_matrix))\n",
    "\n",
    "print('Errores estándar de los parámetros de regresión:')\n",
    "print('SE(b0) = ', standard_errors[0])\n",
    "print('SE(b1) = ', standard_errors[1])"
   ]
  },
  {
   "cell_type": "markdown",
   "metadata": {},
   "source": [
    "fORMA DETALAL"
   ]
  },
  {
   "cell_type": "code",
   "execution_count": 10,
   "metadata": {},
   "outputs": [
    {
     "name": "stdout",
     "output_type": "stream",
     "text": [
      "[[ 0.04944116 -0.01169638]\n",
      " [-0.01169638  0.0028516 ]]\n",
      "se(b0) = 0.22235367633510356\n",
      "se(b1) = 0.05340040219094002\n"
     ]
    }
   ],
   "source": [
    "from numpy.linalg import inv\n",
    "\n",
    "mu = np.exp(X_with_intercept@res_poisson.x)\n",
    "\n",
    "\n",
    "W = np.diag(mu) # Matriz diagonal con los valores de mu en la diagonal (pesos)\n",
    "\n",
    "\n",
    "I = X_with_intercept.T@W@X_with_intercept\n",
    "cov_matrix = inv(I)\n",
    "print(cov_matrix)\n",
    "\n",
    "\n",
    "se_b0 = np.sqrt(cov_matrix[0,0])\n",
    "se_b1 = np.sqrt(cov_matrix[1,1])\n",
    "print(\"se(b0) =\",se_b0)\n",
    "print(\"se(b1) =\",se_b1)\n"
   ]
  },
  {
   "cell_type": "markdown",
   "metadata": {},
   "source": []
  },
  {
   "cell_type": "markdown",
   "metadata": {},
   "source": []
  }
 ],
 "metadata": {
  "kernelspec": {
   "display_name": "Python 3",
   "language": "python",
   "name": "python3"
  },
  "language_info": {
   "codemirror_mode": {
    "name": "ipython",
    "version": 3
   },
   "file_extension": ".py",
   "mimetype": "text/x-python",
   "name": "python",
   "nbconvert_exporter": "python",
   "pygments_lexer": "ipython3",
   "version": "3.12.4"
  }
 },
 "nbformat": 4,
 "nbformat_minor": 2
}
