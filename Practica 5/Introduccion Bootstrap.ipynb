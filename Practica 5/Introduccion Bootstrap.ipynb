{
 "cells": [
  {
   "cell_type": "code",
   "execution_count": 2,
   "metadata": {},
   "outputs": [],
   "source": [
    "import numpy as np\n",
    "import matplotlib.pyplot as plt\n",
    "from scipy import stats\n",
    "import pandas as pd"
   ]
  },
  {
   "cell_type": "code",
   "execution_count": 3,
   "metadata": {},
   "outputs": [],
   "source": [
    "datos = pd.read_csv('./california_housing_train.csv', delimiter=',')\n"
   ]
  },
  {
   "cell_type": "code",
   "execution_count": 6,
   "metadata": {},
   "outputs": [
    {
     "data": {
      "text/plain": [
       "(array([ 8., 14., 23., 19., 17.,  7.,  3.,  2.,  2.,  0.,  2.,  0.,  0.,\n",
       "         2.,  0.,  0.,  0.,  0.,  1.]),\n",
       " array([  20.        ,  348.94736842,  677.89473684, 1006.84210526,\n",
       "        1335.78947368, 1664.73684211, 1993.68421053, 2322.63157895,\n",
       "        2651.57894737, 2980.52631579, 3309.47368421, 3638.42105263,\n",
       "        3967.36842105, 4296.31578947, 4625.26315789, 4954.21052632,\n",
       "        5283.15789474, 5612.10526316, 5941.05263158, 6270.        ]),\n",
       " <BarContainer object of 19 artists>)"
      ]
     },
     "execution_count": 6,
     "metadata": {},
     "output_type": "execute_result"
    },
    {
     "data": {
      "image/png": "[encoded data removed]",
      "text/plain": [
       "<Figure size 640x480 with 1 Axes>"
      ]
     },
     "metadata": {},
     "output_type": "display_data"
    }
   ],
   "source": [
    "n = 100\n",
    "sample_data = datos[\"population\"].sample(n=n)\n",
    "sample = sample_data.values\n",
    "plt.hist(sample, bins='auto', alpha=0.5, label='Sample')"
   ]
  },
  {
   "cell_type": "code",
   "execution_count": 11,
   "metadata": {},
   "outputs": [
    {
     "name": "stdout",
     "output_type": "stream",
     "text": [
      "mean:  1292.02\n",
      "se_mean:  95.20390326031806\n",
      "intervalo de confianza del 95%:  [np.float64(1286.050069978928), np.float64(1297.989930021072)]\n"
     ]
    }
   ],
   "source": [
    "## Calculo el promedio muestral\n",
    "mean = np.mean(sample)\n",
    "# Calculo la desviacion estandar muestral\n",
    "std = np.std(sample) \n",
    "# calculo el error estandar del promedio muestral\n",
    "se_mean = std/np.sqrt(n)\n",
    "\n",
    "# calculo el intervalo de confianza del 95%\n",
    "aplha = 0.95\n",
    "low = mean - stats.norm.ppf(1-aplha/2)*se_mean # limite inferior\n",
    "high = mean + stats.norm.ppf(1-aplha/2)*se_mean # limite superior\n",
    "\n",
    "\n",
    "print(\"mean: \", mean)\n",
    "print(\"se_mean: \", se_mean)\n",
    "print(\"intervalo de confianza del 95%: \", [low, high])"
   ]
  },
  {
   "cell_type": "code",
   "execution_count": null,
   "metadata": {},
   "outputs": [],
   "source": []
  },
  {
   "cell_type": "code",
   "execution_count": null,
   "metadata": {},
   "outputs": [],
   "source": []
  }
 ],
 "metadata": {
  "kernelspec": {
   "display_name": "Python 3",
   "language": "python",
   "name": "python3"
  },
  "language_info": {
   "codemirror_mode": {
    "name": "ipython",
    "version": 3
   },
   "file_extension": ".py",
   "mimetype": "text/x-python",
   "name": "python",
   "nbconvert_exporter": "python",
   "pygments_lexer": "ipython3",
   "version": "3.12.4"
  }
 },
 "nbformat": 4,
 "nbformat_minor": 2
}
